{
 "cells": [
  {
   "cell_type": "markdown",
   "metadata": {},
   "source": [
    "https://www.kaggle.com/datasets/henriqueyamahata/bank-marketing?resource=download"
   ]
  },
  {
   "cell_type": "markdown",
   "metadata": {},
   "source": [
    "## Importing Libraries :"
   ]
  },
  {
   "cell_type": "markdown",
   "metadata": {},
   "source": [
    "These are just a few examples of popular Python libraries. You can import any other library using the same import statement followed by the library name or alias:\n",
    "\n",
    "NumPy: for numerical operations and array manipulation\n",
    "\n",
    "Pandas: for data manipulation and analysis\n",
    "\n",
    "Matplotlib: for creating visualizations\n",
    "\n",
    "Scikit-learn: for machine learning algorithms"
   ]
  },
  {
   "cell_type": "code",
   "execution_count": null,
   "metadata": {},
   "outputs": [],
   "source": [
    "import pandas as pd\n",
    "import numpy as np\n",
    "import matplotlib.pyplot as plt \n",
    "import seaborn as sns\n",
    "\n",
    "%matplotlib inline \n",
    "\n",
    "import warnings\n",
    "warnings.filterwarnings('ignore')"
   ]
  },
  {
   "cell_type": "markdown",
   "metadata": {},
   "source": [
    "## Importing Dataset :"
   ]
  },
  {
   "cell_type": "markdown",
   "metadata": {},
   "source": [
    "\n",
    "The dataset appears to be related to marketing or customer interactions and related to a bank or financial institution. Here's a brief description of each column:"
   ]
  },
  {
   "cell_type": "markdown",
   "metadata": {},
   "source": [
    "\n",
    "\n",
    "1. `age`: Represents the age of the individual.\n",
    "2. `job`: Describes the occupation or job of the person.\n",
    "3. `marital`: Indicates the marital status of the person (e.g., married, single, divorced).\n",
    "4. `education`: Represents the educational level of the person (e.g., basic, high school, university).\n",
    "5. `default`: Indicates whether the person has credit in default ('yes', 'no', or 'unknown').\n",
    "6. `housing`: Shows whether the person has a housing loan ('yes', 'no', or 'unknown').\n",
    "7. `loan`: Indicates whether the person has a personal loan ('yes', 'no', or 'unknown').\n",
    "8. `contact`: Describes the method of communication used to contact the person (e.g., 'cellular', 'telephone').\n",
    "9. `month`: Represents the month of the last contact.\n",
    "10. `day_of_week`: Indicates the day of the week of the last contact.\n",
    "11. `duration`: Represents the duration of the last contact in seconds.\n",
    "12. `campaign`: Indicates the number of contacts made during this campaign.\n",
    "13. `pdays`: Describes the number of days since the person was last contacted or -1 if they were not previously contacted.\n",
    "14. `previous`: Represents the number of contacts made before this campaign.\n",
    "15. `poutcome`: Indicates the outcome of the previous marketing campaign.\n",
    "16. `emp.var.rate`: Describes the employment variation rate.\n",
    "17. `cons.price.idx`: Represents the consumer price index.\n",
    "18. `cons.conf.idx`: Indicates the consumer confidence index.\n",
    "19. `euribor3m`: Represents the Euribor 3-month rate.\n",
    "20. `nr.employed`: Describes the number of employees.\n",
    "21. `y`: The target variable, indicating whether the person subscribed to a term deposit ('yes' or 'no').\n",
    "\n"
   ]
  },
  {
   "cell_type": "code",
   "execution_count": null,
   "metadata": {},
   "outputs": [],
   "source": [
    "dataframe = pd.read_csv('bank-additional.csv', sep = ';')"
   ]
  },
  {
   "cell_type": "code",
   "execution_count": null,
   "metadata": {},
   "outputs": [],
   "source": [
    "dataframe.head()"
   ]
  },
  {
   "cell_type": "code",
   "execution_count": null,
   "metadata": {},
   "outputs": [],
   "source": [
    "dataframe.tail()"
   ]
  },
  {
   "cell_type": "code",
   "execution_count": null,
   "metadata": {},
   "outputs": [],
   "source": [
    "dataframe.shape"
   ]
  },
  {
   "cell_type": "code",
   "execution_count": null,
   "metadata": {},
   "outputs": [],
   "source": [
    "dataframe.info()"
   ]
  },
  {
   "cell_type": "code",
   "execution_count": null,
   "metadata": {},
   "outputs": [],
   "source": [
    "dataframe.select_dtypes(include= 'object').head()"
   ]
  },
  {
   "cell_type": "code",
   "execution_count": null,
   "metadata": {},
   "outputs": [],
   "source": [
    "dataframe.describe(include = 'object')"
   ]
  },
  {
   "cell_type": "markdown",
   "metadata": {},
   "source": [
    "The result shows that the average client refers to administrative staff (job = admin.), is married (marital = married) and has a university degree (education = university.degree)."
   ]
  },
  {
   "cell_type": "code",
   "execution_count": null,
   "metadata": {},
   "outputs": [],
   "source": [
    "dataframe.isna().sum()"
   ]
  },
  {
   "cell_type": "markdown",
   "metadata": {},
   "source": [
    "Method describe shows the main statistical characteristics of the dataset for each numerical feature (int64 and float64 types): the existing values number, mean, standard deviation, range, min & max, 0.25, 0.5 and 0.75 quartiles."
   ]
  },
  {
   "cell_type": "code",
   "execution_count": null,
   "metadata": {},
   "outputs": [],
   "source": [
    "dataframe.describe()"
   ]
  },
  {
   "cell_type": "code",
   "execution_count": null,
   "metadata": {},
   "outputs": [],
   "source": [
    "dataframe.columns"
   ]
  },
  {
   "cell_type": "code",
   "execution_count": null,
   "metadata": {},
   "outputs": [],
   "source": [
    "dataframe[\"y\"].value_counts()"
   ]
  },
  {
   "cell_type": "markdown",
   "metadata": {},
   "source": [
    "4640 clients (11.3%) of 41188 issued a term deposit, the value of the variable y equals yes."
   ]
  },
  {
   "cell_type": "code",
   "execution_count": null,
   "metadata": {},
   "outputs": [],
   "source": [
    "dataframe['y'].value_counts().plot(kind = 'bar', \n",
    "                                 figsize = (12, 5), \n",
    "                                 title = 'Distribution', \n",
    "                                 cmap = 'ocean')"
   ]
  },
  {
   "cell_type": "markdown",
   "metadata": {},
   "source": [
    "Let's look at the client distribution by the variable marital. Specify the value of the normalize = True parameter to view relative frequencies, but not absolute."
   ]
  },
  {
   "cell_type": "code",
   "execution_count": null,
   "metadata": {},
   "outputs": [],
   "source": [
    "dataframe[\"marital\"].value_counts(normalize = True)"
   ]
  },
  {
   "cell_type": "markdown",
   "metadata": {},
   "source": [
    "As we can see, 61% (0.61) of clients are married, which must be taken into account when planning marketing campaigns to manage deposit operations."
   ]
  },
  {
   "cell_type": "code",
   "execution_count": null,
   "metadata": {},
   "outputs": [],
   "source": [
    "dataframe['marital'].value_counts(normalize = True).plot(kind = 'bar', \n",
    "                                                         figsize = (12, 5), \n",
    "                                                         title = 'Distribution', \n",
    "                                                         cmap = 'ocean')"
   ]
  },
  {
   "cell_type": "markdown",
   "metadata": {},
   "source": [
    "A DataFrame can be sorted by a few feature values. In our case, for example, by duration (ascending = False for sorting in descending order):"
   ]
  },
  {
   "cell_type": "code",
   "execution_count": null,
   "metadata": {},
   "outputs": [],
   "source": [
    "dataframe.sort_values(by = \"duration\", ascending = False).head()"
   ]
  },
  {
   "cell_type": "markdown",
   "metadata": {},
   "source": [
    "The sorting results show that the longest calls exceed one hour, as the value duration is more than 3600 seconds or 1 hour. At the same time, it usually was on Mondays and Thursdays (day_of_week) and, especially, in November and August (month).\n",
    "\n",
    "Sort by the column group:"
   ]
  },
  {
   "cell_type": "code",
   "execution_count": null,
   "metadata": {},
   "outputs": [],
   "source": [
    "dataframe.sort_values(by = [\"age\", \"duration\"], ascending = [True, False]).head()"
   ]
  },
  {
   "cell_type": "code",
   "execution_count": null,
   "metadata": {},
   "outputs": [],
   "source": [
    "corr_matrix = dataframe.corr()"
   ]
  },
  {
   "cell_type": "code",
   "execution_count": null,
   "metadata": {},
   "outputs": [],
   "source": [
    "corr_matrix"
   ]
  },
  {
   "cell_type": "code",
   "execution_count": null,
   "metadata": {},
   "outputs": [],
   "source": [
    "plt.figure(figsize = (12, 5))\n",
    "sns.heatmap(corr_matrix, \n",
    "            annot = True, \n",
    "            cmap = 'coolwarm')"
   ]
  },
  {
   "cell_type": "code",
   "execution_count": null,
   "metadata": {},
   "outputs": [],
   "source": [
    "dataframe.head()"
   ]
  },
  {
   "cell_type": "code",
   "execution_count": null,
   "metadata": {},
   "outputs": [],
   "source": [
    "pd.crosstab(dataframe[\"y\"], dataframe[\"marital\"])"
   ]
  },
  {
   "cell_type": "markdown",
   "metadata": {},
   "source": [
    "The result shows that the number of attracted married clients is 2532 (y = 1 for married) from the total number."
   ]
  },
  {
   "cell_type": "code",
   "execution_count": null,
   "metadata": {},
   "outputs": [],
   "source": [
    "pd.crosstab(dataframe[\"y\"],\n",
    "            dataframe[\"marital\"],\n",
    "            normalize = 'index')"
   ]
  },
  {
   "cell_type": "markdown",
   "metadata": {},
   "source": [
    "We see that more than half of the clients (61%, column married) are married and have not issued a deposit.\n",
    "\n",
    "In Pandas, pivot tables are implemented by the method pivot_table with such parameters:\n",
    "\n",
    "values – a list of variables to calculate the necessary statistics,\n",
    "index – a list of variables to group data,\n",
    "aggfunc — values that we actually need to count by groups - the amount, average, maximum, minimum or something else."
   ]
  },
  {
   "cell_type": "code",
   "execution_count": null,
   "metadata": {},
   "outputs": [],
   "source": [
    "dataframe.pivot_table(\n",
    "    [\"age\", \"duration\"],\n",
    "    [\"job\"],\n",
    "    aggfunc = \"mean\",\n",
    ").head(10)"
   ]
  },
  {
   "cell_type": "markdown",
   "metadata": {},
   "source": [
    "Method scatter_matrix allows you to visualize the pairwise dependencies between the features (as well as the distribution of each feature on the diagonal). We will do it for numerical features."
   ]
  },
  {
   "cell_type": "code",
   "execution_count": null,
   "metadata": {},
   "outputs": [],
   "source": [
    "pd.plotting.scatter_matrix(\n",
    "    dataframe[[\"age\", \"duration\", \"campaign\"]],\n",
    "    figsize = (15, 15),\n",
    "    diagonal = \"kde\", \n",
    "    cmap = 'coolwarm')\n",
    "plt.show()"
   ]
  },
  {
   "cell_type": "markdown",
   "metadata": {},
   "source": [
    "A scatter matrix (pairs plot) compactly plots all the numeric variables we have in a dataset against each other. The plots on the main diagonal allow you to visually define the type of data distribution: the distribution is similar to normal for age, and for a call duration and the number of contacts, the geometric distribution is more suitable."
   ]
  },
  {
   "cell_type": "code",
   "execution_count": null,
   "metadata": {},
   "outputs": [],
   "source": [
    "dataframe[\"age\"].hist()"
   ]
  },
  {
   "cell_type": "code",
   "execution_count": null,
   "metadata": {},
   "outputs": [],
   "source": [
    "dataframe.hist(color = \"k\",\n",
    "        bins = 30,\n",
    "        figsize = (15, 10))\n",
    "plt.show()"
   ]
  },
  {
   "cell_type": "markdown",
   "metadata": {},
   "source": [
    "A visual analysis of the histograms presented allows us to make preliminary assumptions about the variability of the source data.\n",
    "\n",
    "Now we will use Box Plot. It will allow us to compactly visualize the main characteristics of the feature distribution (the median, lower and upper quartile, minimal and maximum, outliers)."
   ]
  },
  {
   "cell_type": "code",
   "execution_count": null,
   "metadata": {},
   "outputs": [],
   "source": [
    "dataframe.boxplot(column = \"age\",\n",
    "           by = \"marital\")\n",
    "plt.show()"
   ]
  },
  {
   "cell_type": "markdown",
   "metadata": {},
   "source": [
    "The plot shows that unmarried people are on average younger than divorced and married ones. For the last two groups, there is an outlier zone over 70 years old, and for unmarried - over 50."
   ]
  },
  {
   "cell_type": "code",
   "execution_count": null,
   "metadata": {},
   "outputs": [],
   "source": [
    "dataframe.boxplot(column = \"age\",\n",
    "           by = [\"marital\", \"housing\"],\n",
    "           figsize = (20, 20))\n",
    "plt.show()"
   ]
  },
  {
   "cell_type": "code",
   "execution_count": null,
   "metadata": {},
   "outputs": [],
   "source": [
    "dataframe.sort_values(by = \"campaign\", ascending = False).head(10)"
   ]
  },
  {
   "cell_type": "markdown",
   "metadata": {},
   "source": [
    "Determine the median age and the number of contacts for different levels of client education."
   ]
  },
  {
   "cell_type": "code",
   "execution_count": null,
   "metadata": {},
   "outputs": [],
   "source": [
    "dataframe.pivot_table(\n",
    "    [\"age\", \"campaign\"],\n",
    "    [\"education\"],\n",
    "    aggfunc = [\"mean\", \"count\"],\n",
    ")"
   ]
  },
  {
   "cell_type": "markdown",
   "metadata": {},
   "source": [
    "Output box plot to analyze the client age distribution by their education level."
   ]
  },
  {
   "cell_type": "code",
   "execution_count": null,
   "metadata": {},
   "outputs": [],
   "source": [
    "dataframe.boxplot(column = \"age\",\n",
    "  by = \"education\",\n",
    "  figsize = (15, 15))\n",
    "plt.show()"
   ]
  },
  {
   "cell_type": "code",
   "execution_count": null,
   "metadata": {},
   "outputs": [],
   "source": []
  }
 ],
 "metadata": {
  "kaggle": {
   "accelerator": "none",
   "dataSources": [
    {
     "datasetId": 4471,
     "sourceId": 6849,
     "sourceType": "datasetVersion"
    },
    {
     "datasetId": 17473,
     "sourceId": 22922,
     "sourceType": "datasetVersion"
    },
    {
     "datasetId": 30368,
     "sourceId": 38700,
     "sourceType": "datasetVersion"
    },
    {
     "datasetId": 35847,
     "sourceId": 51854,
     "sourceType": "datasetVersion"
    },
    {
     "datasetId": 2445309,
     "sourceId": 4139805,
     "sourceType": "datasetVersion"
    }
   ],
   "dockerImageVersionId": 30587,
   "isGpuEnabled": false,
   "isInternetEnabled": false,
   "language": "python",
   "sourceType": "notebook"
  },
  "kernelspec": {
   "display_name": "Python 3 (ipykernel)",
   "language": "python",
   "name": "python3"
  },
  "language_info": {
   "codemirror_mode": {
    "name": "ipython",
    "version": 3
   },
   "file_extension": ".py",
   "mimetype": "text/x-python",
   "name": "python",
   "nbconvert_exporter": "python",
   "pygments_lexer": "ipython3",
   "version": "3.11.4"
  }
 },
 "nbformat": 4,
 "nbformat_minor": 4
}
